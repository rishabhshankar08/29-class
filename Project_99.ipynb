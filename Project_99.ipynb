{
  "nbformat": 4,
  "nbformat_minor": 0,
  "metadata": {
    "colab": {
      "provenance": [],
      "authorship_tag": "ABX9TyOCykGgy0Pj56dnAIjXYcaD",
      "include_colab_link": true
    },
    "kernelspec": {
      "name": "python3",
      "display_name": "Python 3"
    },
    "language_info": {
      "name": "python"
    }
  },
  "cells": [
    {
      "cell_type": "markdown",
      "metadata": {
        "id": "view-in-github",
        "colab_type": "text"
      },
      "source": [
        "<a href=\"https://colab.research.google.com/github/rishabhshankar08/29-class/blob/main/Project_99.ipynb\" target=\"_parent\"><img src=\"https://colab.research.google.com/assets/colab-badge.svg\" alt=\"Open In Colab\"/></a>"
      ]
    },
    {
      "cell_type": "code",
      "execution_count": 1,
      "metadata": {
        "colab": {
          "base_uri": "https://localhost:8080/"
        },
        "id": "sh5p_dqyvWhL",
        "outputId": "ca12bbf6-1e70-4fa6-d0d9-ed07f6e07859"
      },
      "outputs": [
        {
          "output_type": "stream",
          "name": "stdout",
          "text": [
            "Enter the name to be displayed : rishabh\n",
            "r * * * * * * \n",
            "* i * * * * * \n",
            "* * s * * * * \n",
            "* * * h * * * \n",
            "* * * * a * * \n",
            "* * * * * b * \n",
            "* * * * * * h \n"
          ]
        }
      ],
      "source": [
        "name = input(\"Enter the name to be displayed : \")\n",
        "iteration = len(name)\n",
        "for i in range(0, iteration):\n",
        "    for j in range(0, iteration):\n",
        "        if(i == j):\n",
        "            print(name[j],sep=\" \",end=\" \" )\n",
        "        else:\n",
        "            print(\"*\",sep=\" \",end=\" \")\n",
        "    print()"
      ]
    }
  ]
}