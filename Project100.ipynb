{
  "nbformat": 4,
  "nbformat_minor": 0,
  "metadata": {
    "colab": {
      "provenance": [],
      "authorship_tag": "ABX9TyPLsiOUUu4btWIlYJurC4Br",
      "include_colab_link": true
    },
    "kernelspec": {
      "name": "python3",
      "display_name": "Python 3"
    },
    "language_info": {
      "name": "python"
    }
  },
  "cells": [
    {
      "cell_type": "markdown",
      "metadata": {
        "id": "view-in-github",
        "colab_type": "text"
      },
      "source": [
        "<a href=\"https://colab.research.google.com/github/rishabhshankar08/29-class/blob/main/Project100.ipynb\" target=\"_parent\"><img src=\"https://colab.research.google.com/assets/colab-badge.svg\" alt=\"Open In Colab\"/></a>"
      ]
    },
    {
      "cell_type": "code",
      "execution_count": 1,
      "metadata": {
        "colab": {
          "base_uri": "https://localhost:8080/"
        },
        "id": "XXRi6rGT0kBA",
        "outputId": "24e5e503-603a-4cd5-f114-d1a81f2fef29"
      },
      "outputs": [
        {
          "output_type": "stream",
          "name": "stdout",
          "text": [
            "Thanks for the response, You rated Movie with   *\n",
            "{'Movie Name': 'Good Life', 'Story rating': 1, 'Actor Rating': 1, 'Music Rating': 3, 'Avg Rating': 1}\n",
            "Thanks for the response, You rated Movie with   *\n",
            "{'Movie Name': 'Good Life', 'Story rating': 1, 'Actor Rating': 1, 'Music Rating': 3, 'Avg Rating': 1}\n",
            "Thanks for the response, You rated Movie with   * * * * *\n",
            "{'Movie Name': 'Beautiful Sound', 'Story rating': 5, 'Actor Rating': 5, 'Music Rating': 5, 'Avg Rating': 5}\n",
            "Thanks for the response, You rated Movie with   *\n",
            "{'Movie Name': 'Good Life', 'Story rating': 1, 'Actor Rating': 1, 'Music Rating': 3, 'Avg Rating': 1}\n",
            "Thanks for the response, You rated Movie with   * * * * *\n",
            "{'Movie Name': 'Beautiful Sound', 'Story rating': 5, 'Actor Rating': 5, 'Music Rating': 5, 'Avg Rating': 5}\n",
            "Thanks for the response, You rated Movie with   *\n",
            "{'Movie Name': 'Smiley', 'Story rating': 1, 'Actor Rating': 1, 'Music Rating': 3, 'Avg Rating': 1}\n"
          ]
        }
      ],
      "source": [
        "class MovieReview:\n",
        "  def __init__(self, movie, story, actors, music):\n",
        "    self.movie_name = movie\n",
        "\n",
        "\n",
        "    self.story_rating = story\n",
        "    self.actor_rating = actors\n",
        "    self.music_rating = music\n",
        "\n",
        "    self.avg = int((self.story_rating + self.actor_rating + self.music_rating)/3)\n",
        "    self.myrating = {\n",
        "        \"Movie Name\" : self.movie_name,\n",
        "        \"Story rating\" : self.story_rating,\n",
        "        \"Actor Rating\": self.actor_rating,\n",
        "        \"Music Rating\": self.music_rating,\n",
        "        \"Avg Rating\" : self.avg\n",
        "    }\n",
        "  \n",
        "  def add_movie_ratings(self, movie_list):\n",
        "        movie_list.append(self.myrating)\n",
        "  \n",
        "  \n",
        "  def avg_star_ratings(self, movie_list):\n",
        "    for movie in movie_list:\n",
        "      if(movie[\"Avg Rating\"] == 1 ):\n",
        "        print(\"Thanks for the response, You rated Movie with   *\")\n",
        "        print(movie)\n",
        "\n",
        "      elif(movie[\"Avg Rating\"] == 2 ):\n",
        "        print(\"Thanks for the response, You rated Movie with   * * \")\n",
        "        print(movie)\n",
        "\n",
        "      elif(movie[\"Avg Rating\"] == 3 ):\n",
        "        print(\"Thanks for the response, You rated Movie with   * * *\")\n",
        "        print(movie)\n",
        "\n",
        "      elif(movie[\"Avg Rating\"] == 4 ):\n",
        "        print(\"Thanks for the response, You rated Movie with   * * * *\")\n",
        "        print(movie)\n",
        "\n",
        "      if(movie[\"Avg Rating\"] == 5 ):\n",
        "        print(\"Thanks for the response, You rated Movie with   * * * * *\")\n",
        "        print(movie)\n",
        "\n",
        "moviereviews = []\n",
        "\n",
        "\n",
        "review1 = MovieReview (\"Good Life\", 1, 1, 3)\n",
        "review1.add_movie_ratings(moviereviews)\n",
        "review1.avg_star_ratings(moviereviews)\n",
        "\n",
        "review2 = MovieReview(\"Beautiful Sound\", 5, 5, 5)\n",
        "review2.add_movie_ratings(moviereviews)\n",
        "review2.avg_star_ratings(moviereviews)\n",
        "\n",
        "review3 = MovieReview(\"Smiley\", 1, 1, 3)\n",
        "review3.add_movie_ratings(moviereviews)\n",
        "review3.avg_star_ratings(moviereviews)"
      ]
    }
  ]
}